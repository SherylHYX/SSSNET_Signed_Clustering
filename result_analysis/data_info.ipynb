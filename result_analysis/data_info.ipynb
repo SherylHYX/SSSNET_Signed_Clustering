{
 "cells": [
  {
   "cell_type": "code",
   "execution_count": 1,
   "id": "distant-depression",
   "metadata": {},
   "outputs": [],
   "source": [
    "import scipy.sparse as sp\n",
    "import networkx as nx\n",
    "import pandas as pd\n",
    "import numpy as np"
   ]
  },
  {
   "cell_type": "code",
   "execution_count": 3,
   "id": "controversial-mission",
   "metadata": {},
   "outputs": [],
   "source": [
    "from dataclasses import dataclass\n",
    "import networkx as nx\n",
    "from typing import Sequence\n",
    "import itertools\n",
    "\n",
    "@dataclass\n",
    "class Triangle:\n",
    "    indices:Sequence[int] # 3 indices in ascending order\n",
    "    pos_weights: Sequence[bool] # whether three edges (0-1, 1-2, 2-0) are positive\n",
    "    \n",
    "    def __hash__(self):\n",
    "        return hash(tuple(self.indices))\n",
    "    def __eq__(self, other):\n",
    "        if isinstance(other, Triangle):\n",
    "            return self.indices == other.indices\n",
    "        return False\n",
    "    def __init__(self, idx_0:int, idx_1:int, idx_2:int, G:nx.Graph):\n",
    "        self.indices = sorted([idx_0, idx_1, idx_2])\n",
    "        \n",
    "        edge_with_data = G.edges\n",
    "        self.pos_weights = list()\n",
    "        self.pos_weights.append(edge_with_data[(self.indices[0], self.indices[1])]['weight'])\n",
    "        self.pos_weights.append(edge_with_data[(self.indices[1], self.indices[2])]['weight'])\n",
    "        self.pos_weights.append(edge_with_data[(self.indices[2], self.indices[0])]['weight'])\n",
    "        \n",
    "def is_unbalanced_triangle(t:Triangle):\n",
    "    # 1 or 3 edges are negative\n",
    "    return t.pos_weights[0] * t.pos_weights[1] * t.pos_weights[2] < 0\n",
    "    \n",
    "def explore_triangles(G:nx.Graph):\n",
    "    triangle_set = set()\n",
    "    \n",
    "    def find_triangle_from_vertex(G:nx.Graph, start_idx:int):\n",
    "        adj_nodes = [n for n in G.neighbors(start_idx)]\n",
    "        \n",
    "        # get all pairs\n",
    "        for a, b in itertools.combinations(adj_nodes, 2):\n",
    "            # if a, b are connected\n",
    "            a_neighbors = G.neighbors(a)\n",
    "            if b in a_neighbors:\n",
    "                # add to set\n",
    "                triangle_set.add(Triangle(start_idx, a, b, G))\n",
    "\n",
    "    for start_idx in G.nodes:\n",
    "        find_triangle_from_vertex(G, start_idx)\n",
    "    \n",
    "    unbalaneced_num = 0\n",
    "    for t in triangle_set:\n",
    "        if is_unbalanced_triangle(t):\n",
    "            unbalaneced_num += 1\n",
    "    \n",
    "    # print statistics\n",
    "    print(f'All triangle num: {len(triangle_set)}')\n",
    "    print(f'Unbalanced triangle num: {unbalaneced_num}')\n",
    "    \n",
    "    return unbalaneced_num, len(triangle_set)\n",
    "\n",
    "# for general graph\n",
    "def explore_triangles_general(G:nx.Graph, b_complete_graph:bool):\n",
    "    triangle_set = set()\n",
    "    \n",
    "    \n",
    "    # count negative edges\n",
    "    our_num_triangle = 0\n",
    "    num_unbalanced = 0\n",
    "    for u,v,d in G.edge(data=True):\n",
    "#         if b_complete_graph and d['weight'] > 0:\n",
    "#             continue\n",
    "        u_neighb = [n for n in G.neighbors(u)]\n",
    "        v_neighb = [n for n in G.neighbors(v)]\n",
    "        curr_weight = d['weight']\n",
    "        \n",
    "        intersected = set(u_neighb) & set(v_neighb)\n",
    "        our_num_triangle += len(intersected)\n",
    "        \n",
    "        for i in intersected:\n",
    "            if G.edge[(u,i)]['weight'] * G.edge[(v,i)]['weight'] * curr_weight < 0:\n",
    "                num_unbalanced += 1\n"
   ]
  },
  {
   "cell_type": "code",
   "execution_count": 4,
   "id": "informative-electric",
   "metadata": {},
   "outputs": [],
   "source": [
    "import numpy as np\n",
    "import scipy.sparse as sp\n",
    "\n",
    "def find_num_unbalanced(Ap:sp.csc.csc_matrix, An:sp.csc.csc_matrix):\n",
    "    # convert to undirected graph\n",
    "    Ap = Ap + Ap.transpose()\n",
    "    An = An + An.transpose()\n",
    "    # binarize\n",
    "    Ap = (Ap>0).astype(int)\n",
    "    An = (An>0).astype(int)\n",
    "    A = Ap - An\n",
    "    Abar = ((Ap + An) > 0).astype(int)\n",
    "    \n",
    "    print(f'Num node: {Ap.shape[0]}')\n",
    "    \n",
    "    A_cube = A.dot(A.dot(A))\n",
    "    balminusunbal = A_cube.diagonal().sum()\n",
    "    print(f'acube trace: {balminusunbal}')\n",
    "    \n",
    "    Abar_cube = Abar.dot(Abar.dot(Abar))\n",
    "    baladdunbal = Abar_cube.diagonal().sum()\n",
    "    print(f'abar cube trace: {baladdunbal}')\n",
    "    \n",
    "    unbalance_num = (baladdunbal - balminusunbal) / 2\n",
    "    total_num_triangle = baladdunbal / 6\n",
    "    print(f'Total triangle num: {total_num_triangle}')\n",
    "    \n",
    "    unbalance_num /= 6\n",
    "    print(f'unbalance num: {unbalance_num}')\n",
    "    print(f'unbalanced ratio: {unbalance_num / total_num_triangle}')\n",
    "    \n",
    "    \n",
    "    return unbalance_num"
   ]
  },
  {
   "cell_type": "code",
   "execution_count": 20,
   "id": "9a005147",
   "metadata": {},
   "outputs": [],
   "source": [
    "def dataset_info(dataset, Ap:sp.csc.csc_matrix, An:sp.csc.csc_matrix):\n",
    "    # convert to undirected graph\n",
    "    Ap = Ap + Ap.transpose()\n",
    "    An = An + An.transpose()\n",
    "    # binarize\n",
    "    Ap = (Ap>0).astype(int)\n",
    "    An = (An>0).astype(int)\n",
    "    A = Ap - An\n",
    "    Abar = ((Ap + An) > 0).astype(int)\n",
    "    \n",
    "    num_node = Ap.shape[0]\n",
    "    \n",
    "    print(f'Num node: {num_node}')\n",
    "    \n",
    "    num_pos_edges = Ap.sum()\n",
    "    num_neg_edges = An.sum()\n",
    "    \n",
    "    A_cube = A.dot(A.dot(A))\n",
    "    balminusunbal = A_cube.diagonal().sum()\n",
    "    print(f'acube trace: {balminusunbal}')\n",
    "    \n",
    "    Abar_cube = Abar.dot(Abar.dot(Abar))\n",
    "    baladdunbal = Abar_cube.diagonal().sum()\n",
    "    print(f'abar cube trace: {baladdunbal}')\n",
    "    \n",
    "    unbalance_num = (baladdunbal - balminusunbal) / 2\n",
    "    total_num_triangle = baladdunbal / 6\n",
    "    print(f'Total triangle num: {total_num_triangle}')\n",
    "    \n",
    "    unbalance_num /= 6\n",
    "    unbalance_ratio = unbalance_num / total_num_triangle\n",
    "    print(f'unbalance num: {unbalance_num}')\n",
    "    print(f'unbalanced ratio: {unbalance_ratio}')\n",
    "    \n",
    "    print(dataset+'&'+str(num_node)+'&'+str(num_pos_edges)+'&'+\\\n",
    "          str(num_neg_edges)+'&'+str(unbalance_num)+'&'+str(unbalance_ratio))\n",
    "    return num_node, num_pos_edges, num_neg_edges, unbalance_num, unbalance_ratio"
   ]
  },
  {
   "cell_type": "markdown",
   "id": "heated-imagination",
   "metadata": {},
   "source": [
    "# PPI unbalanced"
   ]
  },
  {
   "cell_type": "code",
   "execution_count": 6,
   "id": "muslim-pattern",
   "metadata": {},
   "outputs": [
    {
     "name": "stdout",
     "output_type": "stream",
     "text": [
      "Num node: 3058\n",
      "acube trace: 21894\n",
      "abar cube trace: 23022\n",
      "Total triangle num: 3837.0\n",
      "unbalance num: 94.0\n",
      "unbalanced ratio: 0.024498305968204327\n",
      "PPI unbalanced 94.0\n"
     ]
    }
   ],
   "source": [
    "A_p = sp.load_npz('../data/PPI/adjacency_plus.npz')\n",
    "A_n = sp.load_npz('../data/PPI/adjacency_minus.npz')\n",
    "dataset_info(A_p, A_n)"
   ]
  },
  {
   "cell_type": "code",
   "execution_count": 7,
   "id": "planned-separate",
   "metadata": {},
   "outputs": [
    {
     "data": {
      "text/plain": [
       "<3058x3058 sparse matrix of type '<class 'numpy.int64'>'\n",
       "\twith 7996 stored elements in Compressed Sparse Column format>"
      ]
     },
     "execution_count": 7,
     "metadata": {},
     "output_type": "execute_result"
    }
   ],
   "source": [
    "A_p=(A_p>0).astype(int)\n",
    "A_p"
   ]
  },
  {
   "cell_type": "code",
   "execution_count": 8,
   "id": "million-scale",
   "metadata": {},
   "outputs": [
    {
     "name": "stdout",
     "output_type": "stream",
     "text": [
      "All triangle num: 3837\n",
      "Unbalanced triangle num: 94\n",
      "Two triangle numbers: 3837, 3837\n",
      "PPI&11860&7996&3864&94&0.0245\n",
      "---new result---\n",
      "All triangle num: 3837\n",
      "Unbalanced triangle num: 94\n",
      "Two triangle numbers: 3837, 3837\n",
      "PPI&11860&7996&3864&94&0.0245\n"
     ]
    }
   ],
   "source": [
    "A_p = sp.load_npz('../data/PPI/adjacency_plus.npz')\n",
    "A_n = sp.load_npz('../data/PPI/adjacency_minus.npz')\n",
    "dataset_info(A_p, A_n)"
   ]
  },
  {
   "cell_type": "markdown",
   "id": "sufficient-collection",
   "metadata": {},
   "source": [
    "# Rainfall unbalanced"
   ]
  },
  {
   "cell_type": "code",
   "execution_count": 9,
   "id": "compliant-commodity",
   "metadata": {},
   "outputs": [
    {
     "name": "stdout",
     "output_type": "stream",
     "text": [
      "Num node: 306\n",
      "acube trace: 12443544\n",
      "abar cube trace: 28652616\n",
      "Total triangle num: 4775436.0\n",
      "unbalance num: 1350756.0\n",
      "unbalanced ratio: 0.28285501051631723\n",
      "Rainfall unbalanced 1350756.0\n"
     ]
    }
   ],
   "source": [
    "A_p = sp.load_npz('../data/rainfall/plus_cc.npz')\n",
    "A_n = sp.load_npz('../data/rainfall/minus_cc.npz')\n",
    "dataset_info(A_p, A_n)"
   ]
  },
  {
   "cell_type": "markdown",
   "id": "stretch-arrest",
   "metadata": {},
   "source": [
    "# wikirfa"
   ]
  },
  {
   "cell_type": "code",
   "execution_count": 12,
   "id": "instrumental-clarity",
   "metadata": {},
   "outputs": [
    {
     "name": "stdout",
     "output_type": "stream",
     "text": [
      "Num node: 7634\n",
      "acube trace: 3558809\n",
      "abar cube trace: 7465835\n",
      "Total triangle num: 1244305.8333333333\n",
      "unbalance num: 325585.5\n",
      "unbalanced ratio: 0.26166035011489003\n"
     ]
    },
    {
     "data": {
      "text/plain": [
       "325585.5"
      ]
     },
     "execution_count": 12,
     "metadata": {},
     "output_type": "execute_result"
    }
   ],
   "source": [
    "A_p = sp.load_npz('../data/wikirfa/pruned_A_p.npz')\n",
    "A_n = sp.load_npz('../data/wikirfa/pruned_A_n.npz')\n",
    "dataset_info(A_p, A_n)"
   ]
  },
  {
   "cell_type": "markdown",
   "id": "primary-stewart",
   "metadata": {},
   "source": [
    "# SP1500"
   ]
  },
  {
   "cell_type": "code",
   "execution_count": null,
   "id": "fixed-feedback",
   "metadata": {},
   "outputs": [],
   "source": [
    "A_p = sp.load_npz('../data/SP1500/adjacency_plus_cc.npz')\n",
    "A_n = sp.load_npz('../data/SP1500/adjacency_minus_cc.npz')\n",
    "dataset_info(A_p, A_n)"
   ]
  },
  {
   "cell_type": "markdown",
   "id": "collective-hardware",
   "metadata": {},
   "source": [
    "# SSBM"
   ]
  },
  {
   "cell_type": "code",
   "execution_count": null,
   "id": "great-transport",
   "metadata": {},
   "outputs": [],
   "source": [
    "import pickle as pk\n",
    "data = pk.load(open('../data/SSBM/10_500_500000_10_80_10_150_0_1000.pk','rb'))\n",
    "A_p, A_n = data.A_p, data.A_n"
   ]
  },
  {
   "cell_type": "code",
   "execution_count": null,
   "id": "gross-johnson",
   "metadata": {},
   "outputs": [],
   "source": [
    "dataset_info(A_p, A_n)"
   ]
  },
  {
   "cell_type": "markdown",
   "id": "73868d5e",
   "metadata": {},
   "source": [
    "## Finance"
   ]
  },
  {
   "cell_type": "code",
   "execution_count": 24,
   "id": "b7da001b",
   "metadata": {},
   "outputs": [
    {
     "name": "stdout",
     "output_type": "stream",
     "text": [
      "Num node: 451\n",
      "acube trace: 78434749\n",
      "abar cube trace: 91520953\n",
      "Total triangle num: 15253492.166666666\n",
      "unbalance num: 1090517.0\n",
      "unbalanced ratio: 0.07149293998282558\n",
      "2000&451&187715&15528&1090517.0&0.07149293998282558\n",
      "Num node: 451\n",
      "acube trace: 72884479\n",
      "abar cube trace: 91437715\n",
      "Total triangle num: 15239619.166666666\n",
      "unbalance num: 1546103.0\n",
      "unbalanced ratio: 0.10145286329606991\n",
      "2001&451&180943&22238&1546103.0&0.10145286329606991\n",
      "Num node: 451\n",
      "acube trace: 69176395\n",
      "abar cube trace: 91424023\n",
      "Total triangle num: 15237337.166666666\n",
      "unbalance num: 1853969.0\n",
      "unbalanced ratio: 0.1216727686551269\n",
      "2002&451&178691&24480&1853969.0&0.1216727686551269\n",
      "Num node: 451\n",
      "acube trace: 58258561\n",
      "abar cube trace: 91206397\n",
      "Total triangle num: 15201066.166666666\n",
      "unbalance num: 2745653.0\n",
      "unbalanced ratio: 0.1806223964751069\n",
      "2003&451&177977&25032&2745653.0&0.1806223964751069\n",
      "Num node: 451\n",
      "acube trace: 40188115\n",
      "abar cube trace: 90857119\n",
      "Total triangle num: 15142853.166666666\n",
      "unbalance num: 4222417.0\n",
      "unbalanced ratio: 0.2788389317077069\n",
      "2004&451&166855&35894&4222417.0&0.2788389317077069\n",
      "Num node: 451\n",
      "acube trace: 27871351\n",
      "abar cube trace: 90602299\n",
      "Total triangle num: 15100383.166666666\n",
      "unbalance num: 5227579.0\n",
      "unbalanced ratio: 0.34618850013949426\n",
      "2005&451&158639&43920&5227579.0&0.34618850013949426\n",
      "Num node: 451\n",
      "acube trace: 29604907\n",
      "abar cube trace: 90776239\n",
      "Total triangle num: 15129373.166666666\n",
      "unbalance num: 5097611.0\n",
      "unbalanced ratio: 0.3369347126179132\n",
      "2006&451&147785&54904&5097611.0&0.3369347126179132\n",
      "Num node: 451\n",
      "acube trace: 29107603\n",
      "abar cube trace: 90695983\n",
      "Total triangle num: 15115997.166666666\n",
      "unbalance num: 5132365.0\n",
      "unbalanced ratio: 0.33953201653925513\n",
      "2007&451&159781&42848&5132365.0&0.33953201653925513\n",
      "Num node: 451\n",
      "acube trace: 36772711\n",
      "abar cube trace: 91122463\n",
      "Total triangle num: 15187077.166666666\n",
      "unbalance num: 4529146.0\n",
      "unbalanced ratio: 0.29822367729458765\n",
      "2008&451&153205&49742&4529146.0&0.29822367729458765\n",
      "Num node: 451\n",
      "acube trace: 45230173\n",
      "abar cube trace: 91101145\n",
      "Total triangle num: 15183524.166666666\n",
      "unbalance num: 3822581.0\n",
      "unbalanced ratio: 0.25175848228910847\n",
      "2009&451&130147&72784&3822581.0&0.25175848228910847\n",
      "Num node: 451\n",
      "acube trace: 42283813\n",
      "abar cube trace: 91055293\n",
      "Total triangle num: 15175882.166666666\n",
      "unbalance num: 4064290.0\n",
      "unbalanced ratio: 0.26781243787771897\n",
      "2010&451&134901&67996&4064290.0&0.26781243787771897\n",
      "Num node: 451\n",
      "acube trace: 45915307\n",
      "abar cube trace: 91088203\n",
      "Total triangle num: 15181367.166666666\n",
      "unbalance num: 3764408.0\n",
      "unbalanced ratio: 0.247962384327639\n",
      "2011&451&134545&68376&3764408.0&0.247962384327639\n",
      "Num node: 451\n",
      "acube trace: 35001139\n",
      "abar cube trace: 90849247\n",
      "Total triangle num: 15141541.166666666\n",
      "unbalance num: 4654009.0\n",
      "unbalanced ratio: 0.3073669284237436\n",
      "2012&451&127721&75022&4654009.0&0.3073669284237436\n",
      "Num node: 451\n",
      "acube trace: 24674131\n",
      "abar cube trace: 90516499\n",
      "Total triangle num: 15086083.166666666\n",
      "unbalance num: 5486864.0\n",
      "unbalanced ratio: 0.3637036823529819\n",
      "2013&451&133733&68762&5486864.0&0.3637036823529819\n",
      "Num node: 451\n",
      "acube trace: 27077947\n",
      "abar cube trace: 90733555\n",
      "Total triangle num: 15122259.166666666\n",
      "unbalance num: 5304634.0\n",
      "unbalanced ratio: 0.35078316946800997\n",
      "2014&451&126421&76236&5304634.0&0.35078316946800997\n",
      "Num node: 451\n",
      "acube trace: 27234763\n",
      "abar cube trace: 90695959\n",
      "Total triangle num: 15115993.166666666\n",
      "unbalance num: 5288433.0\n",
      "unbalanced ratio: 0.34985680012490966\n",
      "2015&451&133229&69400&5288433.0&0.34985680012490966\n",
      "Num node: 451\n",
      "acube trace: 34631161\n",
      "abar cube trace: 90921325\n",
      "Total triangle num: 15153554.166666666\n",
      "unbalance num: 4690847.0\n",
      "unbalanced ratio: 0.309554243737649\n",
      "2016&451&125879&76918&4690847.0&0.309554243737649\n",
      "Num node: 451\n",
      "acube trace: 29323027\n",
      "abar cube trace: 90733447\n",
      "Total triangle num: 15122241.166666666\n",
      "unbalance num: 5117535.0\n",
      "unbalanced ratio: 0.3384111484268861\n",
      "2017&451&130099&72558&5117535.0&0.3384111484268861\n",
      "Num node: 451\n",
      "acube trace: 30458803\n",
      "abar cube trace: 90905239\n",
      "Total triangle num: 15150873.166666666\n",
      "unbalance num: 5037203.0\n",
      "unbalanced ratio: 0.3324694850645517\n",
      "2018&451&142617&60168&5037203.0&0.3324694850645517\n",
      "Num node: 451\n",
      "acube trace: 43247509\n",
      "abar cube trace: 91012573\n",
      "Total triangle num: 15168762.166666666\n",
      "unbalance num: 3980422.0\n",
      "unbalanced ratio: 0.26240915087633004\n",
      "2019&451&127287&75578&3980422.0&0.26240915087633004\n",
      "Num node: 451\n",
      "acube trace: 53545801\n",
      "abar cube trace: 91324309\n",
      "Total triangle num: 15220718.166666666\n",
      "unbalance num: 3148209.0\n",
      "unbalanced ratio: 0.20683708649796628\n",
      "2020&451&160913&42184&3148209.0&0.20683708649796628\n"
     ]
    }
   ],
   "source": [
    "res_array = np.zeros((21,5))\n",
    "for year in range(2000, 2021):\n",
    "    A = sp.load_npz('../data/corr_networks/adj_MR_yearly_'+str(year)+'.npz')\n",
    "    A_p = (abs(A) + A)/2\n",
    "    A_n = (abs(A) - A)/2\n",
    "    res_array[year-2000] = data_info(str(year), A_p, A_n)"
   ]
  },
  {
   "cell_type": "code",
   "execution_count": 25,
   "id": "a276aba8",
   "metadata": {},
   "outputs": [
    {
     "data": {
      "text/plain": [
       "array([4.51000000e+02, 1.48527762e+05, 5.43127619e+04, 4.08594262e+06,\n",
       "       2.69708753e-01])"
      ]
     },
     "execution_count": 25,
     "metadata": {},
     "output_type": "execute_result"
    }
   ],
   "source": [
    "res_array.mean(0)"
   ]
  },
  {
   "cell_type": "code",
   "execution_count": null,
   "id": "97233a69",
   "metadata": {},
   "outputs": [],
   "source": []
  }
 ],
 "metadata": {
  "kernelspec": {
   "display_name": "Python 3",
   "language": "python",
   "name": "python3"
  },
  "language_info": {
   "codemirror_mode": {
    "name": "ipython",
    "version": 3
   },
   "file_extension": ".py",
   "mimetype": "text/x-python",
   "name": "python",
   "nbconvert_exporter": "python",
   "pygments_lexer": "ipython3",
   "version": "3.6.13"
  }
 },
 "nbformat": 4,
 "nbformat_minor": 5
}
