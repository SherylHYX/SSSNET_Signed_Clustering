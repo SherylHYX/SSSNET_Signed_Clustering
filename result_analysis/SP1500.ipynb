{
 "cells": [
  {
   "cell_type": "markdown",
   "metadata": {},
   "source": [
    "#  Financial time series analysis"
   ]
  },
  {
   "cell_type": "code",
   "execution_count": null,
   "metadata": {},
   "outputs": [],
   "source": [
    "#%matplotlib notebook\n",
    "%matplotlib inline"
   ]
  },
  {
   "cell_type": "code",
   "execution_count": null,
   "metadata": {},
   "outputs": [],
   "source": [
    "import sys\n",
    "import csv\n",
    "\n",
    "import numpy as np\n",
    "import networkx as nx\n",
    "import matplotlib.pyplot as plt\n",
    "import scipy.sparse as ss\n",
    "import scipy.stats as st\n",
    "\n",
    "sys.path.append('../src/')\n",
    "from cluster import Cluster\n",
    "import signet_utils as ut\n",
    "from signet_utils import  objscore\n",
    "np.set_printoptions(2)"
   ]
  },
  {
   "cell_type": "code",
   "execution_count": null,
   "metadata": {},
   "outputs": [],
   "source": [
    "import matplotlib\n",
    "from mpl_toolkits.axes_grid1 import AxesGrid\n",
    "\n",
    "def shiftedColorMap(cmap, start=0, midpoint=0.5, stop=1.0, name='shiftedcmap'):\n",
    "    '''\n",
    "    Function to offset the \"center\" of a colormap. Useful for\n",
    "    data with a negative min and positive max and you want the\n",
    "    middle of the colormap's dynamic range to be at zero.\n",
    "\n",
    "    Input\n",
    "    -----\n",
    "      cmap : The matplotlib colormap to be altered\n",
    "      start : Offset from lowest point in the colormap's range.\n",
    "          Defaults to 0.0 (no lower offset). Should be between\n",
    "          0.0 and `midpoint`.\n",
    "      midpoint : The new center of the colormap. Defaults to \n",
    "          0.5 (no shift). Should be between 0.0 and 1.0. In\n",
    "          general, this should be  1 - vmax / (vmax + abs(vmin))\n",
    "          For example if your data range from -15.0 to +5.0 and\n",
    "          you want the center of the colormap at 0.0, `midpoint`\n",
    "          should be set to  1 - 5/(5 + 15)) or 0.75\n",
    "      stop : Offset from highest point in the colormap's range.\n",
    "          Defaults to 1.0 (no upper offset). Should be between\n",
    "          `midpoint` and 1.0.\n",
    "    '''\n",
    "    cdict = {\n",
    "        'red': [],\n",
    "        'green': [],\n",
    "        'blue': [],\n",
    "        'alpha': []\n",
    "    }\n",
    "\n",
    "    # regular index to compute the colors\n",
    "    reg_index = np.linspace(start, stop, 257)\n",
    "\n",
    "    # shifted index to match the data\n",
    "    shift_index = np.hstack([\n",
    "        np.linspace(0.0, midpoint, 128, endpoint=False), \n",
    "        np.linspace(midpoint, 1.0, 129, endpoint=True)\n",
    "    ])\n",
    "\n",
    "    for ri, si in zip(reg_index, shift_index):\n",
    "        r, g, b, a = cmap(ri)\n",
    "\n",
    "        cdict['red'].append((si, r, r))\n",
    "        cdict['green'].append((si, g, g))\n",
    "        cdict['blue'].append((si, b, b))\n",
    "        cdict['alpha'].append((si, a, a))\n",
    "\n",
    "    newcmap = matplotlib.colors.LinearSegmentedColormap(name, cdict)\n",
    "    plt.register_cmap(cmap=newcmap)\n",
    "\n",
    "    return newcmap\n",
    "\n",
    "# shifted cmap (useful to plot correlation matrices)\n",
    "s_cmap = shiftedColorMap(plt.cm.seismic, start= -0.4, midpoint=0., stop=1.0, name='shiftedcmap')\n",
    "#s_cmap = shiftedColorMap(plt.cm.seismic,  midpoint=0., name='shiftedcmap')"
   ]
  },
  {
   "cell_type": "markdown",
   "metadata": {},
   "source": [
    "## Import data"
   ]
  },
  {
   "cell_type": "code",
   "execution_count": null,
   "metadata": {},
   "outputs": [],
   "source": [
    "# numpy arrays, days and prices\n",
    "days = np.genfromtxt('../data/SP1500/Days_SP1500_20030101_20150415.csv', delimiter=' ')\n",
    "prices = np.genfromtxt('../data/SP1500/Prices_SP1500_20030101_20150415.csv', delimiter=',')\n",
    "prices = prices.T"
   ]
  },
  {
   "cell_type": "code",
   "execution_count": null,
   "metadata": {},
   "outputs": [],
   "source": [
    "# python lists, sectors\n",
    "with open('../data/SP1500/Sectors_SP1500_20030101_20150415.csv', 'r') as f:\n",
    "    reader = csv.reader(f)\n",
    "    sectors = list(reader)\n",
    "    \n",
    "all_sectors = list(set(i[3] for i in sectors))\n",
    "all_sectors.remove('SPY')"
   ]
  },
  {
   "cell_type": "code",
   "execution_count": null,
   "metadata": {
    "scrolled": true
   },
   "outputs": [],
   "source": [
    "all_sectors"
   ]
  },
  {
   "cell_type": "code",
   "execution_count": null,
   "metadata": {},
   "outputs": [],
   "source": [
    "all_d = list(set(i[0] for i in sectors))\n",
    "all_d"
   ]
  },
  {
   "cell_type": "code",
   "execution_count": null,
   "metadata": {},
   "outputs": [],
   "source": [
    "all_sectors_short = ['Health',\n",
    " 'Telecom',\n",
    " 'Mat',\n",
    " 'C_Staples',\n",
    " 'Financials',\n",
    " 'Utilities',\n",
    " 'Energy',\n",
    " 'Indust',\n",
    " 'C_Discret',\n",
    " 'IT']"
   ]
  },
  {
   "cell_type": "code",
   "execution_count": null,
   "metadata": {
    "scrolled": true
   },
   "outputs": [],
   "source": [
    "# lengths\n",
    "print(days.shape)\n",
    "print(len(sectors))\n",
    "print(prices.shape)"
   ]
  },
  {
   "cell_type": "code",
   "execution_count": null,
   "metadata": {},
   "outputs": [],
   "source": [
    "all_d = list(set((i[0],i[3]) for i in sectors))"
   ]
  },
  {
   "cell_type": "code",
   "execution_count": null,
   "metadata": {},
   "outputs": [],
   "source": [
    "all_d"
   ]
  },
  {
   "cell_type": "markdown",
   "metadata": {},
   "source": [
    "## Filter out companies with zero entries"
   ]
  },
  {
   "cell_type": "code",
   "execution_count": null,
   "metadata": {},
   "outputs": [],
   "source": [
    "# select only companies without any zero entries\n",
    "idx = np.arange(prices.shape[0])\n",
    "non_zero = ~np.any(prices == 0, axis=1)\n",
    "non_zero_idx = idx[non_zero]"
   ]
  },
  {
   "cell_type": "code",
   "execution_count": null,
   "metadata": {},
   "outputs": [],
   "source": [
    "prices_ = prices[non_zero_idx]\n",
    "sectors_ = list( sectors[i] for i in  non_zero_idx)"
   ]
  },
  {
   "cell_type": "code",
   "execution_count": null,
   "metadata": {},
   "outputs": [],
   "source": [
    "print(days.shape)\n",
    "print(len(sectors_))\n",
    "print(prices_.shape)"
   ]
  },
  {
   "cell_type": "code",
   "execution_count": null,
   "metadata": {},
   "outputs": [],
   "source": [
    "# calculate excessive market returns\n",
    "log_prices = np.log(prices_)\n",
    "returns = np.diff(log_prices)\n",
    "ex_rets = returns - returns[0]\n",
    "\n",
    "print(returns)"
   ]
  },
  {
   "cell_type": "code",
   "execution_count": null,
   "metadata": {},
   "outputs": [],
   "source": [
    "# remove SPY index\n",
    "ex_rets_ = ex_rets[1:, 1:]\n",
    "sectors_ = sectors_[1:]\n",
    "prices_ = prices_[1:]"
   ]
  },
  {
   "cell_type": "code",
   "execution_count": null,
   "metadata": {},
   "outputs": [],
   "source": [
    "# correlation matrix\n",
    "corrs = np.corrcoef(ex_rets_)"
   ]
  },
  {
   "cell_type": "markdown",
   "metadata": {},
   "source": [
    "## Clustering given by sector assignment"
   ]
  },
  {
   "cell_type": "code",
   "execution_count": null,
   "metadata": {},
   "outputs": [],
   "source": [
    "prices_sorted = np.zeros(prices_.shape[1])\n",
    "\n",
    "for i in np.arange(10):\n",
    "    \n",
    "    idx_i = [j for j, (a, b, c, d) in enumerate(sectors_) if d == all_sectors[i]]\n",
    "    \n",
    "    prices_sorted = np.vstack((prices_sorted, prices_[idx_i]))\n",
    "    \n",
    "prices_sorted = prices_sorted[1:]"
   ]
  },
  {
   "cell_type": "code",
   "execution_count": null,
   "metadata": {},
   "outputs": [],
   "source": [
    "log_prices_s = np.log(prices_sorted)\n",
    "returns_s = np.diff(log_prices_s)\n",
    "ex_rets_s = returns_s - returns[0]\n",
    "corr_sorted = np.corrcoef(ex_rets_s )"
   ]
  },
  {
   "cell_type": "markdown",
   "metadata": {},
   "source": [
    "## Clustering the fully connected graph"
   ]
  },
  {
   "cell_type": "code",
   "execution_count": null,
   "metadata": {},
   "outputs": [],
   "source": [
    "A_p = ss.load_npz('../data/SP1500/adjacency_plus_cc.npz')\n",
    "A_n = ss.load_npz('../data/SP1500/adjacency_minus_cc.npz')"
   ]
  },
  {
   "cell_type": "code",
   "execution_count": null,
   "metadata": {},
   "outputs": [],
   "source": [
    "labels = np.load('../data/SP1500/sector_labels.npy')"
   ]
  },
  {
   "cell_type": "code",
   "execution_count": null,
   "metadata": {},
   "outputs": [],
   "source": [
    "m = Cluster((A_p, A_n))"
   ]
  },
  {
   "cell_type": "code",
   "execution_count": null,
   "metadata": {},
   "outputs": [],
   "source": [
    "k=10"
   ]
  },
  {
   "cell_type": "markdown",
   "metadata": {},
   "source": [
    "### Sort correlation matrix"
   ]
  },
  {
   "cell_type": "code",
   "execution_count": null,
   "metadata": {},
   "outputs": [],
   "source": [
    "def enspace(s):\n",
    "    if s=='Consumer_Discretionary':\n",
    "        return 'Discretionary'\n",
    "    elif s=='Health_Care':\n",
    "        return 'Healthcare'\n",
    "    elif s=='Telecommunications_Services':\n",
    "        return 'Telecoms'\n",
    "    elif s=='Information_Technology':\n",
    "        return 'IT'\n",
    "    elif s=='Consumer_Staples':\n",
    "        return 'Staples'\n",
    "    return s"
   ]
  },
  {
   "cell_type": "code",
   "execution_count": null,
   "metadata": {},
   "outputs": [],
   "source": [
    "print(sectors_[0])"
   ]
  },
  {
   "cell_type": "code",
   "execution_count": null,
   "metadata": {},
   "outputs": [],
   "source": [
    "data_pred = np.load('../logs/SP1500/200_10_90_10_1000/04-22-22:49:19/SSSNET_L_pred_latest3.npy') # all_ARI = 0.707\n",
    "preds = data_pred\n",
    "preds = list(map(int, preds))\n",
    "plt.hist(data_pred, alpha=0.5)\n",
    "plt.hist(labels,alpha=0.5)\n",
    "plt.show()\n",
    "x_=ut.sizeorder(preds,k,m.p,m.n,True)\n",
    "plt.rcParams.update({'font.size': 15})\n",
    "ticks=[i+0.5 for i in range(len(x_)-1) if preds[x_[i]]!=preds[x_[i+1]]]\n",
    "order =[x_.index(l) for l in range(len(x_))] \n",
    "ax = plt.scatter(range(len(x_)) , [enspace(i[3]) for i in list(np.array(sectors_)[x_])],s=350,cmap='plasma',marker='|',c=[all_sectors.index(i[3]) for i in list(np.array(sectors_)[x_])])\n",
    "plt.vlines(ticks,-0.5,len(all_sectors)-0.5)\n",
    "ax.axes.get_xaxis().set_visible(False)\n",
    "plt.savefig('SP1500ind_SSSNET.pdf', dpi = 300, bbox_inches='tight', pad_inches = 0.25)"
   ]
  },
  {
   "cell_type": "markdown",
   "metadata": {},
   "source": [
    "### Summary\n",
    "This is a sample notebook to analyze S\\&P1500 data set results."
   ]
  }
 ],
 "metadata": {
  "kernelspec": {
   "display_name": "Python 3",
   "language": "python",
   "name": "python3"
  },
  "language_info": {
   "codemirror_mode": {
    "name": "ipython",
    "version": 3
   },
   "file_extension": ".py",
   "mimetype": "text/x-python",
   "name": "python",
   "nbconvert_exporter": "python",
   "pygments_lexer": "ipython3",
   "version": "3.6.12"
  }
 },
 "nbformat": 4,
 "nbformat_minor": 2
}
