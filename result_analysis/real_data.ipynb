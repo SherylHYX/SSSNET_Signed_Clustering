{
 "cells": [
  {
   "cell_type": "code",
   "execution_count": null,
   "id": "radio-france",
   "metadata": {},
   "outputs": [],
   "source": [
    "import sys\n",
    "sys.path.append('../src')\n",
    "\n",
    "import numpy as np\n",
    "import torch\n",
    "import scipy.sparse as sp\n",
    "\n",
    "from metrics import real_data_analysis"
   ]
  },
  {
   "cell_type": "code",
   "execution_count": null,
   "id": "awful-robinson",
   "metadata": {},
   "outputs": [],
   "source": [
    "real_data_analysis('PPI','../result_arrays/PPI/','100_200_50_0_0_1_3200_10_0_10_5000_L_SpectralSSSNET.npy',\n",
    "                  new_name_base='100_200_50_0_0_1_3200_10_0_10_5000_L_SpectralSSSNET.npy',\n",
    "                  pred_save_dir='../logs/PPI/200_0_80_10_1000/04-23-22:16:04/',\n",
    "                  A_p_path='../data/PPI/adjacency_plus.npz', A_n_path='../data/PPI/adjacency_minus.npz')"
   ]
  },
  {
   "cell_type": "code",
   "execution_count": null,
   "id": "assisted-telling",
   "metadata": {},
   "outputs": [],
   "source": [
    "real_data_analysis('wikirfa','../result_arrays/wikirfa/','100_200_50_0_0_1_3200_10_0_10_5000_L_SpectralSSSNET.npy',\n",
    "                  pred_save_dir='../logs/wikirfa/200_0_80_10_1000/04-26-08:56:24/',\n",
    "                  A_p_path='../data/wikirfa/pruned_A_p.npz',A_n_path='../data/wikirfa/pruned_A_n.npz')"
   ]
  },
  {
   "cell_type": "markdown",
   "id": "successful-consultancy",
   "metadata": {},
   "source": [
    "### Summary\n",
    "This is a sample notebook to compare results on real data sets."
   ]
  }
 ],
 "metadata": {
  "kernelspec": {
   "display_name": "Python 3",
   "language": "python",
   "name": "python3"
  },
  "language_info": {
   "codemirror_mode": {
    "name": "ipython",
    "version": 3
   },
   "file_extension": ".py",
   "mimetype": "text/x-python",
   "name": "python",
   "nbconvert_exporter": "python",
   "pygments_lexer": "ipython3",
   "version": "3.6.13"
  }
 },
 "nbformat": 4,
 "nbformat_minor": 5
}
