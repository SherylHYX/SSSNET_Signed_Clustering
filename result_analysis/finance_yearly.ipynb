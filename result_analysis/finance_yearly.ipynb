{
 "cells": [
  {
   "cell_type": "code",
   "execution_count": 44,
   "id": "8383fc14",
   "metadata": {},
   "outputs": [],
   "source": [
    "import sys\n",
    "sys.path.append('../src')\n",
    "\n",
    "import numpy as np\n",
    "from scipy.stats import rankdata\n",
    "\n",
    "from metrics import print_performance_mean_std"
   ]
  },
  {
   "cell_type": "code",
   "execution_count": 45,
   "id": "2a5ddee5",
   "metadata": {},
   "outputs": [],
   "source": [
    "res_mat = np.zeros((21, 4, 10)) # dim 0: year; dim 1: test ARI, all ARI, teset NMI, all NMI; dim 2: methods\n",
    "distance_to_best_mat = np.zeros((21, 4, 10)) # dim 0: year; dim 1: test ARI, all ARI, teset NMI, all NMI; dim 2: methods\n",
    "for year in range(2000,2021):\n",
    "    dir_name = '../0811result_arrays/MR_yearly_' + str(year)\n",
    "    res_str = '0_200_50_10_0_1_3200_10_0_10_5000_given_L_SpectralSSSNETseeds31.npy'\n",
    "    for ind, core_str in enumerate(['/test_latest', '/all_latest', '/test_NMI_latest', '/all_NMI_latest']):\n",
    "        res = np.load(dir_name + core_str + res_str)\n",
    "        res = np.concatenate((res[:,:9], res[:,-1:]),axis=1)\n",
    "        res = np.nanmean(res,axis=0)\n",
    "        best_res = np.max(res)\n",
    "        dist_res = best_res - res\n",
    "        res_mat[year-2000, ind] = res\n",
    "        distance_to_best_mat[year-2000, ind] = dist_res"
   ]
  },
  {
   "cell_type": "code",
   "execution_count": 47,
   "id": "b8f63129",
   "metadata": {},
   "outputs": [],
   "source": [
    "compare_names = ['A','sns','dns','L','L_sym','BNC','BRC','SPONGE','SPONGE_sym', 'SSSNET']\n",
    "metric_names = ['test ARI', 'all ARI', 'test NMI', 'all NMI']\n",
    "metric_names_dist = ['test ARI dist', 'all ARI dist', 'test NMI dist', 'all NMI dist']"
   ]
  },
  {
   "cell_type": "code",
   "execution_count": 50,
   "id": "e250a5a8",
   "metadata": {},
   "outputs": [
    {
     "name": "stdout",
     "output_type": "stream",
     "text": [
      "+----------+----------+----------+----------+----------+----------+----------+----------+----------+---------+---------+\n",
      "| Finance  |    A     |   sns    |   dns    |    L     |  L_sym   |   BNC    |   BRC    |  SPONGE  | SPONGE_ | SSSNET  |\n",
      "| yearly M |          |          |          |          |          |          |          |          |   sym   |         |\n",
      "| etric/Me |          |          |          |          |          |          |          |          |         |         |\n",
      "|   thod   |          |          |          |          |          |          |          |          |         |         |\n",
      "+==========+==========+==========+==========+==========+==========+==========+==========+==========+=========+=========+\n",
      "| test ARI | 0.22$\\pm | 0.37$\\pm | 0.32$\\pm | 0.33$\\pm | 0.22$\\pm | 0.32$\\pm | 0.33$\\pm | 0.2$\\pm$ | \\blue{0 | \\red{0. |\n",
      "| dist     | $0.09    | $0.12    | $0.1     | $0.1     | $0.09    | $0.09    | $0.11    | 0.08     | .16$\\pm | 0$\\pm$0 |\n",
      "|          |          |          |          |          |          |          |          |          | $0.07}  | .0}     |\n",
      "+----------+----------+----------+----------+----------+----------+----------+----------+----------+---------+---------+\n",
      "| all ARI  | 0.27$\\pm | 0.43$\\pm | 0.37$\\pm | 0.38$\\pm | 0.27$\\pm | 0.37$\\pm | 0.38$\\pm | 0.24$\\pm | \\blue{0 | \\red{0. |\n",
      "| dist     | $0.09    | $0.11    | $0.1     | $0.1     | $0.09    | $0.09    | $0.1     | $0.08    | .2$\\pm$ | 0$\\pm$0 |\n",
      "|          |          |          |          |          |          |          |          |          | 0.06}   | .0}     |\n",
      "+----------+----------+----------+----------+----------+----------+----------+----------+----------+---------+---------+\n",
      "| test NMI | 0.110    | 0.530    | 0.390    | 0.390    | 0.140    | 0.390    | 0.400    | 0.120    | \\blue{0 | \\red{0. |\n",
      "| dist     |          |          |          |          |          |          |          |          | .09}    | 0}      |\n",
      "+----------+----------+----------+----------+----------+----------+----------+----------+----------+---------+---------+\n",
      "| all NMI  | 0.170    | 0.440    | 0.350    | 0.360    | 0.190    | 0.350    | 0.350    | 0.120    | \\blue{0 | \\red{0. |\n",
      "| dist     |          |          |          |          |          |          |          |          | .11}    | 0}      |\n",
      "+----------+----------+----------+----------+----------+----------+----------+----------+----------+---------+---------+\n",
      "\\begin{table}\n",
      "\t\\begin{center}\n",
      "\t\t\\begin{tabular}{|l|l|l|l|l|l|l|l|l|l|l|}\n",
      "\t\t\t\\hline\n",
      "\t\t\tFinance yearly Metric/Method & A & sns & dns & L & L_sym & BNC & BRC & SPONGE & SPONGE_sym & SSSNET \\\\\n",
      "\t\t\t\\hline\n",
      "\t\t\ttest ARI dist & 0.22$\\pm$0.09 & 0.37$\\pm$0.12 & 0.32$\\pm$0.1 & 0.33$\\pm$0.1 & 0.22$\\pm$0.09 & 0.32$\\pm$0.09 & 0.33$\\pm$0.11 & 0.2$\\pm$0.08 & \\blue{0.16$\\pm$0.07} & \\red{0.0$\\pm$0.0} \\\\\n",
      "\t\t\t\\hline\n",
      "\t\t\tall ARI dist & 0.27$\\pm$0.09 & 0.43$\\pm$0.11 & 0.37$\\pm$0.1 & 0.38$\\pm$0.1 & 0.27$\\pm$0.09 & 0.37$\\pm$0.09 & 0.38$\\pm$0.1 & 0.24$\\pm$0.08 & \\blue{0.2$\\pm$0.06} & \\red{0.0$\\pm$0.0} \\\\\n",
      "\t\t\t\\hline\n",
      "\t\t\ttest NMI dist & 0.110 & 0.530 & 0.390 & 0.390 & 0.140 & 0.390 & 0.400 & 0.120 & \\blue{0.09} & \\red{0.0} \\\\\n",
      "\t\t\t\\hline\n",
      "\t\t\tall NMI dist & 0.170 & 0.440 & 0.350 & 0.360 & 0.190 & 0.350 & 0.350 & 0.120 & \\blue{0.11} & \\red{0.0} \\\\\n",
      "\t\t\t\\hline\n",
      "\t\t\\end{tabular}\n",
      "\t\\end{center}\n",
      "\t\\caption{Finance yearly  performance.}\n",
      "\t\\label{table:Finance yearly }\n",
      "\\end{table}\n",
      "\n"
     ]
    }
   ],
   "source": [
    "print_performance_mean_std('Finance yearly ',\\\n",
    "                           np.transpose(distance_to_best_mat, axes=(0,2,1)), compare_names, metric_names_dist)"
   ]
  },
  {
   "cell_type": "code",
   "execution_count": 51,
   "id": "ffe440db",
   "metadata": {},
   "outputs": [
    {
     "name": "stdout",
     "output_type": "stream",
     "text": [
      "+----------+----------+----------+----------+----------+----------+----------+----------+----------+---------+---------+\n",
      "| Finance  |    A     |   sns    |   dns    |    L     |  L_sym   |   BNC    |   BRC    |  SPONGE  | SPONGE_ | SSSNET  |\n",
      "| yearly M |          |          |          |          |          |          |          |          |   sym   |         |\n",
      "| etric/Me |          |          |          |          |          |          |          |          |         |         |\n",
      "|   thod   |          |          |          |          |          |          |          |          |         |         |\n",
      "+==========+==========+==========+==========+==========+==========+==========+==========+==========+=========+=========+\n",
      "| test ARI | 0.18$\\pm | 0.03$\\pm | 0.08$\\pm | 0.07$\\pm | 0.17$\\pm | 0.08$\\pm | 0.07$\\pm | 0.19$\\pm | \\blue{0 | \\red{0. |\n",
      "|          | $0.05    | $0.03    | $0.05    | $0.04    | $0.08    | $0.05    | $0.04    | $0.08    | .24$\\pm | 4$\\pm$0 |\n",
      "|          |          |          |          |          |          |          |          |          | $0.08}  | .12}    |\n",
      "+----------+----------+----------+----------+----------+----------+----------+----------+----------+---------+---------+\n",
      "| all ARI  | 0.19$\\pm | 0.03$\\pm | 0.09$\\pm | 0.08$\\pm | 0.19$\\pm | 0.09$\\pm | 0.08$\\pm | 0.22$\\pm | \\blue{0 | \\red{0. |\n",
      "|          | $0.05    | $0.03    | $0.05    | $0.04    | $0.08    | $0.06    | $0.05    | $0.08    | .26$\\pm | 46$\\pm$ |\n",
      "|          |          |          |          |          |          |          |          |          | $0.08}  | 0.11}   |\n",
      "+----------+----------+----------+----------+----------+----------+----------+----------+----------+---------+---------+\n",
      "| test NMI | 0.540    | 0.120    | 0.260    | 0.260    | 0.510    | 0.260    | 0.250    | 0.530    | \\blue{0 | \\red{0. |\n",
      "|          |          |          |          |          |          |          |          |          | .56}    | 65}     |\n",
      "+----------+----------+----------+----------+----------+----------+----------+----------+----------+---------+---------+\n",
      "| all NMI  | 0.380    | 0.110    | 0.200    | 0.190    | 0.360    | 0.200    | 0.190    | 0.420    | \\blue{0 | \\red{0. |\n",
      "|          |          |          |          |          |          |          |          |          | .44}    | 55}     |\n",
      "+----------+----------+----------+----------+----------+----------+----------+----------+----------+---------+---------+\n",
      "\\begin{table}\n",
      "\t\\begin{center}\n",
      "\t\t\\begin{tabular}{|l|l|l|l|l|l|l|l|l|l|l|}\n",
      "\t\t\t\\hline\n",
      "\t\t\tFinance yearly Metric/Method & A & sns & dns & L & L_sym & BNC & BRC & SPONGE & SPONGE_sym & SSSNET \\\\\n",
      "\t\t\t\\hline\n",
      "\t\t\ttest ARI & 0.18$\\pm$0.05 & 0.03$\\pm$0.03 & 0.08$\\pm$0.05 & 0.07$\\pm$0.04 & 0.17$\\pm$0.08 & 0.08$\\pm$0.05 & 0.07$\\pm$0.04 & 0.19$\\pm$0.08 & \\blue{0.24$\\pm$0.08} & \\red{0.4$\\pm$0.12} \\\\\n",
      "\t\t\t\\hline\n",
      "\t\t\tall ARI & 0.19$\\pm$0.05 & 0.03$\\pm$0.03 & 0.09$\\pm$0.05 & 0.08$\\pm$0.04 & 0.19$\\pm$0.08 & 0.09$\\pm$0.06 & 0.08$\\pm$0.05 & 0.22$\\pm$0.08 & \\blue{0.26$\\pm$0.08} & \\red{0.46$\\pm$0.11} \\\\\n",
      "\t\t\t\\hline\n",
      "\t\t\ttest NMI & 0.540 & 0.120 & 0.260 & 0.260 & 0.510 & 0.260 & 0.250 & 0.530 & \\blue{0.56} & \\red{0.65} \\\\\n",
      "\t\t\t\\hline\n",
      "\t\t\tall NMI & 0.380 & 0.110 & 0.200 & 0.190 & 0.360 & 0.200 & 0.190 & 0.420 & \\blue{0.44} & \\red{0.55} \\\\\n",
      "\t\t\t\\hline\n",
      "\t\t\\end{tabular}\n",
      "\t\\end{center}\n",
      "\t\\caption{Finance yearly  performance.}\n",
      "\t\\label{table:Finance yearly }\n",
      "\\end{table}\n",
      "\n"
     ]
    }
   ],
   "source": [
    "print_performance_mean_std('Finance yearly ',\\\n",
    "                           np.transpose(res_mat, axes=(0,2,1)), compare_names, metric_names)"
   ]
  },
  {
   "cell_type": "code",
   "execution_count": null,
   "id": "9abf67d8",
   "metadata": {},
   "outputs": [],
   "source": []
  }
 ],
 "metadata": {
  "kernelspec": {
   "display_name": "Python 3",
   "language": "python",
   "name": "python3"
  },
  "language_info": {
   "codemirror_mode": {
    "name": "ipython",
    "version": 3
   },
   "file_extension": ".py",
   "mimetype": "text/x-python",
   "name": "python",
   "nbconvert_exporter": "python",
   "pygments_lexer": "ipython3",
   "version": "3.6.13"
  }
 },
 "nbformat": 4,
 "nbformat_minor": 5
}
