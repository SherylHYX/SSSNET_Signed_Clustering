{
 "cells": [
  {
   "cell_type": "code",
   "execution_count": 1,
   "id": "abstract-strand",
   "metadata": {},
   "outputs": [],
   "source": [
    "import numpy as np\n",
    "import scipy.sparse as sp\n",
    "import pickle\n",
    "import networkx as nx\n",
    "import scipy.sparse as sp\n",
    "\n",
    "import sys\n",
    "sys.path.append('../../src')\n",
    "\n",
    "from cluster import Cluster\n",
    "from metrics import get_cut_and_distribution, label_size_ratio"
   ]
  },
  {
   "cell_type": "code",
   "execution_count": 3,
   "id": "super-benjamin",
   "metadata": {},
   "outputs": [
    {
     "data": {
      "text/plain": [
       "<3058x3058 sparse matrix of type '<class 'numpy.float64'>'\n",
       "\twith 7996 stored elements in Compressed Sparse Column format>"
      ]
     },
     "execution_count": 3,
     "metadata": {},
     "output_type": "execute_result"
    }
   ],
   "source": [
    "A_p = sp.load_npz('adjacency_plus.npz')\n",
    "A_n = sp.load_npz('adjacency_minus.npz')\n",
    "A_p"
   ]
  },
  {
   "cell_type": "code",
   "execution_count": 4,
   "id": "shaped-channel",
   "metadata": {},
   "outputs": [
    {
     "data": {
      "text/plain": [
       "<3058x3058 sparse matrix of type '<class 'numpy.float64'>'\n",
       "\twith 0 stored elements in Compressed Sparse Column format>"
      ]
     },
     "execution_count": 4,
     "metadata": {},
     "output_type": "execute_result"
    }
   ],
   "source": [
    "A_p - A_p.transpose()"
   ]
  },
  {
   "cell_type": "code",
   "execution_count": 5,
   "id": "personal-regard",
   "metadata": {},
   "outputs": [],
   "source": [
    "G = nx.from_scipy_sparse_matrix(A_p - A_n)"
   ]
  },
  {
   "cell_type": "code",
   "execution_count": 6,
   "id": "pointed-confidence",
   "metadata": {},
   "outputs": [],
   "source": [
    "largest_cc = max(nx.connected_components(G), key=len)"
   ]
  },
  {
   "cell_type": "code",
   "execution_count": 7,
   "id": "inappropriate-fight",
   "metadata": {},
   "outputs": [
    {
     "data": {
      "text/plain": [
       "3058"
      ]
     },
     "execution_count": 7,
     "metadata": {},
     "output_type": "execute_result"
    }
   ],
   "source": [
    "len(largest_cc)"
   ]
  },
  {
   "cell_type": "code",
   "execution_count": 8,
   "id": "likely-greenhouse",
   "metadata": {},
   "outputs": [
    {
     "data": {
      "text/plain": [
       "(2.3418428897857666,\n",
       " 0.4188046455383301,\n",
       " array([3030,    2,    2,    2,    2,    3,    3,    2,    5,    7]))"
      ]
     },
     "execution_count": 8,
     "metadata": {},
     "output_type": "execute_result"
    }
   ],
   "source": [
    "num_clusters = 10\n",
    "c = Cluster((0.5*(A_p+A_p.transpose()), \n",
    "        0.5*(A_n+A_n.transpose()), num_clusters))\n",
    "pred = c.SPONGE_sym(k=num_clusters)\n",
    "get_cut_and_distribution(pred, num_clusters, A_p, A_n)"
   ]
  },
  {
   "cell_type": "code",
   "execution_count": 10,
   "id": "social-chair",
   "metadata": {},
   "outputs": [],
   "source": [
    "np.save('labels10', pred)"
   ]
  },
  {
   "cell_type": "code",
   "execution_count": null,
   "id": "endangered-census",
   "metadata": {},
   "outputs": [],
   "source": []
  }
 ],
 "metadata": {
  "kernelspec": {
   "display_name": "Python 3",
   "language": "python",
   "name": "python3"
  },
  "language_info": {
   "codemirror_mode": {
    "name": "ipython",
    "version": 3
   },
   "file_extension": ".py",
   "mimetype": "text/x-python",
   "name": "python",
   "nbconvert_exporter": "python",
   "pygments_lexer": "ipython3",
   "version": "3.6.13"
  }
 },
 "nbformat": 4,
 "nbformat_minor": 5
}
