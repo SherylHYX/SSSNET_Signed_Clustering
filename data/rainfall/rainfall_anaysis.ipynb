{
 "cells": [
  {
   "cell_type": "markdown",
   "metadata": {},
   "source": [
    "# Rainfalls in Australia"
   ]
  },
  {
   "cell_type": "code",
   "execution_count": 1,
   "metadata": {},
   "outputs": [],
   "source": [
    "#%matplotlib notebook\n",
    "%matplotlib inline"
   ]
  },
  {
   "cell_type": "code",
   "execution_count": 2,
   "metadata": {},
   "outputs": [],
   "source": [
    "import sys\n",
    "import csv\n",
    "import os\n",
    "\n",
    "import pandas as pd\n",
    "import numpy as np\n",
    "import networkx as nx\n",
    "import matplotlib.pyplot as plt\n",
    "import scipy.sparse as ss\n",
    "import scipy.stats as st\n",
    "\n",
    "from signet.cluster import Cluster\n",
    "import signet.utils as ut\n",
    "from signet.utils import objscore\n",
    "import matplotlib\n",
    "#from mpl_toolkits.basemap import Basemap"
   ]
  },
  {
   "cell_type": "code",
   "execution_count": 3,
   "metadata": {},
   "outputs": [],
   "source": [
    "direc = 'monthly_uncompressed/'"
   ]
  },
  {
   "cell_type": "code",
   "execution_count": 4,
   "metadata": {},
   "outputs": [],
   "source": [
    "files = os.listdir(direc)"
   ]
  },
  {
   "cell_type": "code",
   "execution_count": 5,
   "metadata": {},
   "outputs": [],
   "source": [
    "stat_lat_lon = []\n",
    "\n",
    "with open(direc + 'HQMR_stations.txt','r') as f:\n",
    "    for line in f:\n",
    "        stat_lat_lon.append(line.split(' ')[0:3])\n"
   ]
  },
  {
   "cell_type": "code",
   "execution_count": 6,
   "metadata": {
    "scrolled": true
   },
   "outputs": [
    {
     "name": "stderr",
     "output_type": "stream",
     "text": [
      "/home/songchaow/.conda/envs/PGT/lib/python3.6/site-packages/ipykernel_launcher.py:4: ParserWarning: Falling back to the 'python' engine because the 'c' engine does not support regex separators (separators > 1 char and different from '\\s+' are interpreted as regex); you can avoid this warning by specifying engine='python'.\n",
      "  after removing the cwd from sys.path.\n"
     ]
    }
   ],
   "source": [
    "\n",
    "datal = []\n",
    "for i, file in enumerate(files):\n",
    "    if file[-5:] =='h.txt':\n",
    "        data = pd.read_csv(direc+file, sep='   ', parse_dates=[])\n",
    "        datal.append(data)"
   ]
  },
  {
   "cell_type": "code",
   "execution_count": 7,
   "metadata": {
    "scrolled": false
   },
   "outputs": [
    {
     "data": {
      "text/html": [
       "<div>\n",
       "<style scoped>\n",
       "    .dataframe tbody tr th:only-of-type {\n",
       "        vertical-align: middle;\n",
       "    }\n",
       "\n",
       "    .dataframe tbody tr th {\n",
       "        vertical-align: top;\n",
       "    }\n",
       "\n",
       "    .dataframe thead th {\n",
       "        text-align: right;\n",
       "    }\n",
       "</style>\n",
       "<table border=\"1\" class=\"dataframe\">\n",
       "  <thead>\n",
       "    <tr style=\"text-align: right;\">\n",
       "      <th></th>\n",
       "      <th>PRCP</th>\n",
       "      <th>Unnamed: 1</th>\n",
       "      <th>033073 18920101 20180131 missing_value=99999.9 WOODHOUSE</th>\n",
       "    </tr>\n",
       "  </thead>\n",
       "  <tbody>\n",
       "    <tr>\n",
       "      <th>0</th>\n",
       "      <td>18920101 18920131</td>\n",
       "      <td>531.4</td>\n",
       "      <td>NaN</td>\n",
       "    </tr>\n",
       "    <tr>\n",
       "      <th>1</th>\n",
       "      <td>18920201 18920229</td>\n",
       "      <td>22.1</td>\n",
       "      <td>NaN</td>\n",
       "    </tr>\n",
       "    <tr>\n",
       "      <th>2</th>\n",
       "      <td>18920301 18920331</td>\n",
       "      <td>119.4</td>\n",
       "      <td>NaN</td>\n",
       "    </tr>\n",
       "    <tr>\n",
       "      <th>3</th>\n",
       "      <td>18920401 18920430</td>\n",
       "      <td>5.1</td>\n",
       "      <td>NaN</td>\n",
       "    </tr>\n",
       "    <tr>\n",
       "      <th>4</th>\n",
       "      <td>18920501 18920531</td>\n",
       "      <td>38.9</td>\n",
       "      <td>NaN</td>\n",
       "    </tr>\n",
       "  </tbody>\n",
       "</table>\n",
       "</div>"
      ],
      "text/plain": [
       "                PRCP  Unnamed: 1  \\\n",
       "0  18920101 18920131       531.4   \n",
       "1  18920201 18920229        22.1   \n",
       "2  18920301 18920331       119.4   \n",
       "3  18920401 18920430         5.1   \n",
       "4  18920501 18920531        38.9   \n",
       "\n",
       "    033073 18920101 20180131 missing_value=99999.9 WOODHOUSE  \n",
       "0                                                NaN          \n",
       "1                                                NaN          \n",
       "2                                                NaN          \n",
       "3                                                NaN          \n",
       "4                                                NaN          "
      ]
     },
     "execution_count": 7,
     "metadata": {},
     "output_type": "execute_result"
    }
   ],
   "source": [
    "datal[0].head()"
   ]
  },
  {
   "cell_type": "code",
   "execution_count": 8,
   "metadata": {},
   "outputs": [
    {
     "data": {
      "text/plain": [
       "Index(['PRCP', 'Unnamed: 1',\n",
       "       ' 033073 18920101 20180131 missing_value=99999.9 WOODHOUSE'],\n",
       "      dtype='object')"
      ]
     },
     "execution_count": 8,
     "metadata": {},
     "output_type": "execute_result"
    }
   ],
   "source": [
    "datal[0].columns"
   ]
  },
  {
   "cell_type": "code",
   "execution_count": 9,
   "metadata": {},
   "outputs": [],
   "source": [
    "# inde of stations\n",
    "stations = []\n",
    "for d in datal:\n",
    "    c = d.columns[2].split()[0]\n",
    "    stations.append(c)"
   ]
  },
  {
   "cell_type": "code",
   "execution_count": 10,
   "metadata": {
    "scrolled": true
   },
   "outputs": [
    {
     "data": {
      "text/plain": [
       "' 017031 18850801 20141231 missing_value=99999.9 MARREE'"
      ]
     },
     "execution_count": 10,
     "metadata": {},
     "output_type": "execute_result"
    }
   ],
   "source": [
    "d.columns[2]"
   ]
  },
  {
   "cell_type": "code",
   "execution_count": 11,
   "metadata": {},
   "outputs": [],
   "source": [
    "# drop useless columns\n",
    "\n",
    "for d in datal:\n",
    "    \n",
    "    d.drop(columns=[d.columns[2]], inplace = True)"
   ]
  },
  {
   "cell_type": "code",
   "execution_count": 12,
   "metadata": {},
   "outputs": [
    {
     "data": {
      "text/html": [
       "<div>\n",
       "<style scoped>\n",
       "    .dataframe tbody tr th:only-of-type {\n",
       "        vertical-align: middle;\n",
       "    }\n",
       "\n",
       "    .dataframe tbody tr th {\n",
       "        vertical-align: top;\n",
       "    }\n",
       "\n",
       "    .dataframe thead th {\n",
       "        text-align: right;\n",
       "    }\n",
       "</style>\n",
       "<table border=\"1\" class=\"dataframe\">\n",
       "  <thead>\n",
       "    <tr style=\"text-align: right;\">\n",
       "      <th></th>\n",
       "      <th>PRCP</th>\n",
       "      <th>Unnamed: 1</th>\n",
       "    </tr>\n",
       "  </thead>\n",
       "  <tbody>\n",
       "    <tr>\n",
       "      <th>0</th>\n",
       "      <td>18920101 18920131</td>\n",
       "      <td>531.4</td>\n",
       "    </tr>\n",
       "    <tr>\n",
       "      <th>1</th>\n",
       "      <td>18920201 18920229</td>\n",
       "      <td>22.1</td>\n",
       "    </tr>\n",
       "    <tr>\n",
       "      <th>2</th>\n",
       "      <td>18920301 18920331</td>\n",
       "      <td>119.4</td>\n",
       "    </tr>\n",
       "    <tr>\n",
       "      <th>3</th>\n",
       "      <td>18920401 18920430</td>\n",
       "      <td>5.1</td>\n",
       "    </tr>\n",
       "    <tr>\n",
       "      <th>4</th>\n",
       "      <td>18920501 18920531</td>\n",
       "      <td>38.9</td>\n",
       "    </tr>\n",
       "  </tbody>\n",
       "</table>\n",
       "</div>"
      ],
      "text/plain": [
       "                PRCP  Unnamed: 1\n",
       "0  18920101 18920131       531.4\n",
       "1  18920201 18920229        22.1\n",
       "2  18920301 18920331       119.4\n",
       "3  18920401 18920430         5.1\n",
       "4  18920501 18920531        38.9"
      ]
     },
     "execution_count": 12,
     "metadata": {},
     "output_type": "execute_result"
    }
   ],
   "source": [
    "datal[0].head()"
   ]
  },
  {
   "cell_type": "code",
   "execution_count": 13,
   "metadata": {},
   "outputs": [],
   "source": [
    "# rename columns\n",
    "for i,d in enumerate(datal):\n",
    "    d.columns=[\"Date\", \"Rain_\"+stations[i]]"
   ]
  },
  {
   "cell_type": "code",
   "execution_count": 14,
   "metadata": {
    "scrolled": false
   },
   "outputs": [
    {
     "data": {
      "text/html": [
       "<div>\n",
       "<style scoped>\n",
       "    .dataframe tbody tr th:only-of-type {\n",
       "        vertical-align: middle;\n",
       "    }\n",
       "\n",
       "    .dataframe tbody tr th {\n",
       "        vertical-align: top;\n",
       "    }\n",
       "\n",
       "    .dataframe thead th {\n",
       "        text-align: right;\n",
       "    }\n",
       "</style>\n",
       "<table border=\"1\" class=\"dataframe\">\n",
       "  <thead>\n",
       "    <tr style=\"text-align: right;\">\n",
       "      <th></th>\n",
       "      <th>Date</th>\n",
       "      <th>Rain_033073</th>\n",
       "    </tr>\n",
       "  </thead>\n",
       "  <tbody>\n",
       "    <tr>\n",
       "      <th>0</th>\n",
       "      <td>18920101 18920131</td>\n",
       "      <td>531.4</td>\n",
       "    </tr>\n",
       "    <tr>\n",
       "      <th>1</th>\n",
       "      <td>18920201 18920229</td>\n",
       "      <td>22.1</td>\n",
       "    </tr>\n",
       "    <tr>\n",
       "      <th>2</th>\n",
       "      <td>18920301 18920331</td>\n",
       "      <td>119.4</td>\n",
       "    </tr>\n",
       "    <tr>\n",
       "      <th>3</th>\n",
       "      <td>18920401 18920430</td>\n",
       "      <td>5.1</td>\n",
       "    </tr>\n",
       "    <tr>\n",
       "      <th>4</th>\n",
       "      <td>18920501 18920531</td>\n",
       "      <td>38.9</td>\n",
       "    </tr>\n",
       "  </tbody>\n",
       "</table>\n",
       "</div>"
      ],
      "text/plain": [
       "                Date  Rain_033073\n",
       "0  18920101 18920131        531.4\n",
       "1  18920201 18920229         22.1\n",
       "2  18920301 18920331        119.4\n",
       "3  18920401 18920430          5.1\n",
       "4  18920501 18920531         38.9"
      ]
     },
     "execution_count": 14,
     "metadata": {},
     "output_type": "execute_result"
    }
   ],
   "source": [
    "datal[0].head()"
   ]
  },
  {
   "cell_type": "code",
   "execution_count": 15,
   "metadata": {},
   "outputs": [],
   "source": [
    "merge = datal[0]\n",
    "for i in range(1, len(datal)):\n",
    "    merge = pd.merge(merge, datal[i], on = 'Date', how = 'inner')\n",
    "    #merge = pd.merge_asof(merge, datal[i], on = 'Date', left_index=True, right_index=True, direction='nearest')"
   ]
  },
  {
   "cell_type": "code",
   "execution_count": 16,
   "metadata": {
    "scrolled": false
   },
   "outputs": [
    {
     "data": {
      "text/html": [
       "<div>\n",
       "<style scoped>\n",
       "    .dataframe tbody tr th:only-of-type {\n",
       "        vertical-align: middle;\n",
       "    }\n",
       "\n",
       "    .dataframe tbody tr th {\n",
       "        vertical-align: top;\n",
       "    }\n",
       "\n",
       "    .dataframe thead th {\n",
       "        text-align: right;\n",
       "    }\n",
       "</style>\n",
       "<table border=\"1\" class=\"dataframe\">\n",
       "  <thead>\n",
       "    <tr style=\"text-align: right;\">\n",
       "      <th></th>\n",
       "      <th>Date</th>\n",
       "      <th>Rain_033073</th>\n",
       "      <th>Rain_033035</th>\n",
       "      <th>Rain_077008</th>\n",
       "      <th>Rain_022000</th>\n",
       "      <th>Rain_080065</th>\n",
       "      <th>Rain_075012</th>\n",
       "      <th>Rain_058012</th>\n",
       "      <th>Rain_039040</th>\n",
       "      <th>Rain_099005</th>\n",
       "      <th>...</th>\n",
       "      <th>Rain_029032</th>\n",
       "      <th>Rain_036028</th>\n",
       "      <th>Rain_044054</th>\n",
       "      <th>Rain_007057</th>\n",
       "      <th>Rain_007049</th>\n",
       "      <th>Rain_017024</th>\n",
       "      <th>Rain_008141</th>\n",
       "      <th>Rain_086117</th>\n",
       "      <th>Rain_015085</th>\n",
       "      <th>Rain_017031</th>\n",
       "    </tr>\n",
       "  </thead>\n",
       "  <tbody>\n",
       "    <tr>\n",
       "      <th>0</th>\n",
       "      <td>19690801 19690831</td>\n",
       "      <td>0.0</td>\n",
       "      <td>0.0</td>\n",
       "      <td>46.7</td>\n",
       "      <td>39.6</td>\n",
       "      <td>39.3</td>\n",
       "      <td>40.1</td>\n",
       "      <td>170.7</td>\n",
       "      <td>26.2</td>\n",
       "      <td>63.1</td>\n",
       "      <td>...</td>\n",
       "      <td>0.0</td>\n",
       "      <td>0.0</td>\n",
       "      <td>28.7</td>\n",
       "      <td>1.0</td>\n",
       "      <td>0.0</td>\n",
       "      <td>4.3</td>\n",
       "      <td>21.0</td>\n",
       "      <td>35.9</td>\n",
       "      <td>0.0</td>\n",
       "      <td>4.1</td>\n",
       "    </tr>\n",
       "    <tr>\n",
       "      <th>1</th>\n",
       "      <td>19690901 19690930</td>\n",
       "      <td>0.0</td>\n",
       "      <td>0.3</td>\n",
       "      <td>22.9</td>\n",
       "      <td>39.6</td>\n",
       "      <td>19.1</td>\n",
       "      <td>20.6</td>\n",
       "      <td>21.8</td>\n",
       "      <td>6.9</td>\n",
       "      <td>73.0</td>\n",
       "      <td>...</td>\n",
       "      <td>0.0</td>\n",
       "      <td>0.0</td>\n",
       "      <td>35.1</td>\n",
       "      <td>9.7</td>\n",
       "      <td>0.0</td>\n",
       "      <td>10.7</td>\n",
       "      <td>18.9</td>\n",
       "      <td>77.1</td>\n",
       "      <td>0.0</td>\n",
       "      <td>13.5</td>\n",
       "    </tr>\n",
       "    <tr>\n",
       "      <th>2</th>\n",
       "      <td>19691001 19691031</td>\n",
       "      <td>22.4</td>\n",
       "      <td>77.0</td>\n",
       "      <td>10.9</td>\n",
       "      <td>4.3</td>\n",
       "      <td>18.0</td>\n",
       "      <td>18.3</td>\n",
       "      <td>100.5</td>\n",
       "      <td>212.6</td>\n",
       "      <td>15.1</td>\n",
       "      <td>...</td>\n",
       "      <td>44.2</td>\n",
       "      <td>54.1</td>\n",
       "      <td>63.0</td>\n",
       "      <td>7.9</td>\n",
       "      <td>0.0</td>\n",
       "      <td>8.4</td>\n",
       "      <td>0.0</td>\n",
       "      <td>29.5</td>\n",
       "      <td>71.3</td>\n",
       "      <td>26.0</td>\n",
       "    </tr>\n",
       "    <tr>\n",
       "      <th>3</th>\n",
       "      <td>19691101 19691130</td>\n",
       "      <td>0.0</td>\n",
       "      <td>25.7</td>\n",
       "      <td>21.5</td>\n",
       "      <td>12.7</td>\n",
       "      <td>31.8</td>\n",
       "      <td>20.6</td>\n",
       "      <td>137.8</td>\n",
       "      <td>143.1</td>\n",
       "      <td>101.7</td>\n",
       "      <td>...</td>\n",
       "      <td>0.0</td>\n",
       "      <td>0.0</td>\n",
       "      <td>54.9</td>\n",
       "      <td>3.1</td>\n",
       "      <td>0.0</td>\n",
       "      <td>5.6</td>\n",
       "      <td>13.7</td>\n",
       "      <td>59.0</td>\n",
       "      <td>5.8</td>\n",
       "      <td>3.3</td>\n",
       "    </tr>\n",
       "    <tr>\n",
       "      <th>4</th>\n",
       "      <td>19691201 19691231</td>\n",
       "      <td>56.2</td>\n",
       "      <td>69.7</td>\n",
       "      <td>18.8</td>\n",
       "      <td>25.0</td>\n",
       "      <td>14.2</td>\n",
       "      <td>10.9</td>\n",
       "      <td>47.3</td>\n",
       "      <td>83.7</td>\n",
       "      <td>118.1</td>\n",
       "      <td>...</td>\n",
       "      <td>108.6</td>\n",
       "      <td>72.6</td>\n",
       "      <td>4.8</td>\n",
       "      <td>0.0</td>\n",
       "      <td>0.0</td>\n",
       "      <td>0.0</td>\n",
       "      <td>1.3</td>\n",
       "      <td>59.9</td>\n",
       "      <td>147.3</td>\n",
       "      <td>18.3</td>\n",
       "    </tr>\n",
       "  </tbody>\n",
       "</table>\n",
       "<p>5 rows × 307 columns</p>\n",
       "</div>"
      ],
      "text/plain": [
       "                Date  Rain_033073  Rain_033035  Rain_077008  Rain_022000  \\\n",
       "0  19690801 19690831          0.0          0.0         46.7         39.6   \n",
       "1  19690901 19690930          0.0          0.3         22.9         39.6   \n",
       "2  19691001 19691031         22.4         77.0         10.9          4.3   \n",
       "3  19691101 19691130          0.0         25.7         21.5         12.7   \n",
       "4  19691201 19691231         56.2         69.7         18.8         25.0   \n",
       "\n",
       "   Rain_080065  Rain_075012  Rain_058012  Rain_039040  Rain_099005  ...  \\\n",
       "0         39.3         40.1        170.7         26.2         63.1  ...   \n",
       "1         19.1         20.6         21.8          6.9         73.0  ...   \n",
       "2         18.0         18.3        100.5        212.6         15.1  ...   \n",
       "3         31.8         20.6        137.8        143.1        101.7  ...   \n",
       "4         14.2         10.9         47.3         83.7        118.1  ...   \n",
       "\n",
       "   Rain_029032  Rain_036028  Rain_044054  Rain_007057  Rain_007049  \\\n",
       "0          0.0          0.0         28.7          1.0          0.0   \n",
       "1          0.0          0.0         35.1          9.7          0.0   \n",
       "2         44.2         54.1         63.0          7.9          0.0   \n",
       "3          0.0          0.0         54.9          3.1          0.0   \n",
       "4        108.6         72.6          4.8          0.0          0.0   \n",
       "\n",
       "   Rain_017024  Rain_008141  Rain_086117  Rain_015085  Rain_017031  \n",
       "0          4.3         21.0         35.9          0.0          4.1  \n",
       "1         10.7         18.9         77.1          0.0         13.5  \n",
       "2          8.4          0.0         29.5         71.3         26.0  \n",
       "3          5.6         13.7         59.0          5.8          3.3  \n",
       "4          0.0          1.3         59.9        147.3         18.3  \n",
       "\n",
       "[5 rows x 307 columns]"
      ]
     },
     "execution_count": 16,
     "metadata": {},
     "output_type": "execute_result"
    }
   ],
   "source": [
    "merge.head()"
   ]
  },
  {
   "cell_type": "markdown",
   "metadata": {},
   "source": [
    "# Get correlation matrix"
   ]
  },
  {
   "cell_type": "code",
   "execution_count": 17,
   "metadata": {},
   "outputs": [],
   "source": [
    "corr = np.array(merge.corr())"
   ]
  },
  {
   "cell_type": "code",
   "execution_count": 18,
   "metadata": {},
   "outputs": [
    {
     "data": {
      "text/plain": [
       "array([[ 1.  ,  0.88, -0.08, ..., -0.04,  0.45,  0.19],\n",
       "       [ 0.88,  1.  ,  0.01, ...,  0.02,  0.53,  0.25],\n",
       "       [-0.08,  0.01,  1.  , ...,  0.58, -0.02,  0.25],\n",
       "       ...,\n",
       "       [-0.04,  0.02,  0.58, ...,  1.  , -0.08,  0.09],\n",
       "       [ 0.45,  0.53, -0.02, ..., -0.08,  1.  ,  0.57],\n",
       "       [ 0.19,  0.25,  0.25, ...,  0.09,  0.57,  1.  ]])"
      ]
     },
     "execution_count": 18,
     "metadata": {},
     "output_type": "execute_result"
    }
   ],
   "source": [
    "corr"
   ]
  },
  {
   "cell_type": "code",
   "execution_count": 19,
   "metadata": {},
   "outputs": [
    {
     "data": {
      "text/plain": [
       "<matplotlib.colorbar.Colorbar at 0x7ff029a7e2b0>"
      ]
     },
     "execution_count": 19,
     "metadata": {},
     "output_type": "execute_result"
    },
    {
     "data": {
      "image/png": "[encoded data removed]",
      "text/plain": [
       "<Figure size 288x288 with 2 Axes>"
      ]
     },
     "metadata": {
      "needs_background": "light"
     },
     "output_type": "display_data"
    }
   ],
   "source": [
    "plt.matshow(corr)\n",
    "plt.colorbar()"
   ]
  },
  {
   "cell_type": "markdown",
   "metadata": {},
   "source": [
    "# Clustering"
   ]
  },
  {
   "cell_type": "code",
   "execution_count": 20,
   "metadata": {},
   "outputs": [],
   "source": [
    "Ap = (corr + abs(corr))/2.\n",
    "Am = (abs(corr)- corr)/2.\n",
    "Aps = ss.csc_matrix(Ap)\n",
    "Ams = ss.csc_matrix(Am)\n",
    "\n",
    "perm=np.random.permutation(Ap.shape[0])\n",
    "Aps=Aps[perm,:][:,perm]\n",
    "Ams=Ams[perm,:][:,perm]\n",
    "\n",
    "# ss.save_npz('plus_cc.npz', Aps)\n",
    "# ss.save_npz('minus_cc.npz', Ams)"
   ]
  },
  {
   "cell_type": "code",
   "execution_count": 21,
   "metadata": {},
   "outputs": [],
   "source": [
    "m = Cluster((Aps, Ams))"
   ]
  },
  {
   "cell_type": "code",
   "execution_count": 22,
   "metadata": {},
   "outputs": [
    {
     "data": {
      "text/plain": [
       "array([3, 4, 4, 1, 7, 6, 5, 3, 7, 0, 7, 5, 1, 3, 8, 5, 6, 8, 5, 8, 7, 0,\n",
       "       5, 8, 5, 3, 3, 3, 3, 3, 7, 3, 5, 0, 4, 8, 1, 2, 5, 2, 7, 2, 2, 1,\n",
       "       0, 7, 0, 8, 5, 4, 8, 0, 0, 7, 5, 7, 2, 8, 4, 4, 7, 7, 8, 3, 1, 8,\n",
       "       5, 3, 7, 8, 4, 4, 5, 8, 5, 5, 3, 5, 5, 4, 4, 3, 5, 4, 1, 1, 0, 1,\n",
       "       0, 4, 2, 4, 0, 8, 4, 5, 5, 8, 0, 3, 7, 1, 8, 0, 4, 7, 8, 1, 3, 6,\n",
       "       5, 0, 5, 2, 3, 0, 8, 5, 0, 0, 3, 5, 0, 5, 4, 7, 5, 7, 7, 3, 6, 3,\n",
       "       7, 0, 5, 3, 1, 3, 5, 2, 7, 2, 3, 8, 4, 7, 5, 8, 4, 3, 5, 1, 1, 4,\n",
       "       8, 7, 8, 8, 0, 0, 5, 8, 2, 4, 1, 3, 7, 8, 4, 2, 4, 8, 4, 7, 3, 0,\n",
       "       7, 1, 4, 5, 3, 8, 3, 8, 2, 4, 3, 5, 3, 4, 0, 7, 0, 7, 5, 4, 1, 7,\n",
       "       5, 0, 8, 8, 7, 3, 4, 4, 0, 0, 8, 5, 5, 3, 2, 8, 1, 4, 1, 4, 1, 0,\n",
       "       8, 8, 5, 4, 7, 8, 3, 4, 1, 2, 4, 2, 1, 3, 8, 1, 0, 8, 1, 8, 8, 4,\n",
       "       5, 4, 1, 4, 5, 0, 8, 0, 8, 5, 2, 8, 5, 7, 1, 7, 8, 1, 2, 4, 5, 3,\n",
       "       5, 3, 0, 1, 7, 6, 3, 1, 3, 3, 5, 8, 1, 3, 7, 0, 4, 2, 4, 1, 8, 3,\n",
       "       1, 1, 8, 4, 2, 3, 6, 4, 1, 8, 7, 4, 8, 6, 3, 3, 6, 1, 5, 5],\n",
       "      dtype=int32)"
      ]
     },
     "execution_count": 22,
     "metadata": {},
     "output_type": "execute_result"
    }
   ],
   "source": [
    "m.geproblem_adjacency(k = 9)"
   ]
  },
  {
   "cell_type": "code",
   "execution_count": 24,
   "metadata": {},
   "outputs": [
    {
     "data": {
      "text/plain": [
       "array([[1.  , 0.88, 0.  , ..., 0.  , 0.45, 0.19],\n",
       "       [0.88, 1.  , 0.01, ..., 0.02, 0.53, 0.25],\n",
       "       [0.  , 0.01, 1.  , ..., 0.58, 0.  , 0.25],\n",
       "       ...,\n",
       "       [0.  , 0.02, 0.58, ..., 1.  , 0.  , 0.09],\n",
       "       [0.45, 0.53, 0.  , ..., 0.  , 1.  , 0.57],\n",
       "       [0.19, 0.25, 0.25, ..., 0.09, 0.57, 1.  ]])"
      ]
     },
     "execution_count": 24,
     "metadata": {},
     "output_type": "execute_result"
    }
   ],
   "source": [
    "Ap"
   ]
  },
  {
   "cell_type": "code",
   "execution_count": 25,
   "metadata": {},
   "outputs": [
    {
     "data": {
      "text/plain": [
       "(306, 306)"
      ]
     },
     "execution_count": 25,
     "metadata": {},
     "output_type": "execute_result"
    }
   ],
   "source": [
    "Aps.shape"
   ]
  }
 ],
 "metadata": {
  "kernelspec": {
   "display_name": "Python 3",
   "language": "python",
   "name": "python3"
  },
  "language_info": {
   "codemirror_mode": {
    "name": "ipython",
    "version": 3
   },
   "file_extension": ".py",
   "mimetype": "text/x-python",
   "name": "python",
   "nbconvert_exporter": "python",
   "pygments_lexer": "ipython3",
   "version": "3.6.13"
  }
 },
 "nbformat": 4,
 "nbformat_minor": 2
}
